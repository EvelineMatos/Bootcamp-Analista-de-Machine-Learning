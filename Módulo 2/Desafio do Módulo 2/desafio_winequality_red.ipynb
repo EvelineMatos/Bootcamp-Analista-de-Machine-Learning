{
  "nbformat": 4,
  "nbformat_minor": 0,
  "metadata": {
    "colab": {
      "name": "desafio_winequality-red.ipynb",
      "provenance": [],
      "collapsed_sections": []
    },
    "kernelspec": {
      "name": "python3",
      "display_name": "Python 3"
    }
  },
  "cells": [
    {
      "cell_type": "markdown",
      "metadata": {
        "id": "N3_ugmhLc0s2",
        "colab_type": "text"
      },
      "source": [
        "## Desafio - Módulo 2 - Machine Learning\n",
        "##### Respotas do questionário está no final do arquivo"
      ]
    },
    {
      "cell_type": "markdown",
      "metadata": {
        "id": "RMktEpbWcpP2",
        "colab_type": "text"
      },
      "source": [
        "Dataset: https://archive.ics.uci.edu/ml/datasets/wine"
      ]
    },
    {
      "cell_type": "markdown",
      "metadata": {
        "id": "Fwj3Bnu2dXRK",
        "colab_type": "text"
      },
      "source": [
        "**Wine Quality Data Set**<br>\n",
        "Description\n",
        "\n",
        "Forina, M. et al, PARVUS -\n",
        "An Extendible Package for Data Exploration, Classification and Correlation.\n",
        "Institute of Pharmaceutical and Food Analysis and Technologies, Via Brigata Salerno,\n",
        "16147 Genoa, Italy.\n"
      ]
    },
    {
      "cell_type": "markdown",
      "metadata": {
        "id": "ErCzLPqseEoQ",
        "colab_type": "text"
      },
      "source": [
        "Attribute Information:\n",
        "\n",
        "These data are the results of a chemical analysis of wines grown in the same region in Italy but derived from three different cultivars. The analysis determined the quantities of 13 constituents found in each of the three types of wines.\n",
        "\n",
        "I think that the initial data set had around 30 variables, but for some reason I only have the 13 dimensional version. I had a list of what the 30 or so variables were, but a.) I lost it, and b.), I would not know which 13 variables are included in the set.\n",
        "\n",
        "The attributes are (dontated by Riccardo Leardi, riclea '@' anchem.unige.it )\n",
        "- 1) Alcohol\n",
        "- 2) Malic acid\n",
        "- 3) Ash\n",
        "- 4) Alcalinity of ash\n",
        "- 5) Magnesium\n",
        "- 6) Total phenols\n",
        "- 7) Flavanoids\n",
        "- 8) Nonflavanoid phenols\n",
        "- 9) Proanthocyanins\n",
        "- 10)Color intensity\n",
        "- 11)Hue\n",
        "- 12)OD280/OD315 of diluted wines\n",
        "- 13)Proline\n"
      ]
    },
    {
      "cell_type": "markdown",
      "metadata": {
        "id": "YjqVWIWEfQeg",
        "colab_type": "text"
      },
      "source": [
        "### Data Exploration & Analysis"
      ]
    },
    {
      "cell_type": "markdown",
      "metadata": {
        "id": "OQj__gVQfvoZ",
        "colab_type": "text"
      },
      "source": [
        "Provide data set splits for training, validation, and testing:"
      ]
    },
    {
      "cell_type": "markdown",
      "metadata": {
        "id": "VRC2ukWbVSDK",
        "colab_type": "text"
      },
      "source": [
        "#### Para a implementação dos algoritmos utilize as definições abaixo:\n",
        "#### Algoritmo KNN: \n",
        "clf_KNN = KNeighborsClassifier(n_neighbors=5)\n",
        "#### Algoritmo Árvore de Decisão: \n",
        "clf_arvore = DecisionTreeClassifier()\n",
        "#### Algoritmo Floresta Randômica: \n",
        "clf_floresta = RandomForestClassifier(max_depth=10, random_state=1)\n",
        "#### Algoritmo SVM: \n",
        "clf_svm=SVC(gamma='auto',kernel='rbf')\n",
        "#### Algoritmo Rede MLP: \n",
        "clf_mlp = MLPClassifier( alpha=1e-5, hidden_layer_sizes=(5, 5), random_state=1)\n",
        "- 1 Quando for realizar a leitura do arquivo “winequality-red.csv” com a função pandas.read_csv() é necessário utilizar o atributo “ sep=';' ” para que as colunas sejam reconhecidas.\n",
        "- 2 Para a divisão dos dados de treinamento e teste dos algoritmos utilize o valor de “random_state=1” e a proporção de 70% para treinamento e 30% para teste.\n",
        "- 3 Utilize a normalização dos dados utilizando o MinMaxScaler para todos os algoritmos.\n",
        "- 4 Utilize a variável “quality” como saída e as demais como entrada do modelo.\n",
        "- 5 Para a última questão, considere a realização das mesmas etapas desenvolvidas (MinMaxScaler, train_test_split etc)."
      ]
    },
    {
      "cell_type": "code",
      "metadata": {
        "id": "XkAa6kElhAz9",
        "colab_type": "code",
        "colab": {}
      },
      "source": [
        "# importando as bibliotecas\n",
        "import pandas as pd \n",
        "import numpy as np \n",
        "import matplotlib.pyplot as plt "
      ],
      "execution_count": 1,
      "outputs": []
    },
    {
      "cell_type": "code",
      "metadata": {
        "id": "c3aot9E-li4L",
        "colab_type": "code",
        "colab": {}
      },
      "source": [
        "#realizando a leitura do arquivo (dataset)\n",
        "data = 'winequality-red.csv'\n",
        "df = pd.read_csv(data, sep=';')"
      ],
      "execution_count": 2,
      "outputs": []
    },
    {
      "cell_type": "code",
      "metadata": {
        "id": "K_rJ03JqeoKM",
        "colab_type": "code",
        "colab": {
          "base_uri": "https://localhost:8080/",
          "height": 54
        },
        "outputId": "bd349f05-be20-4153-9b2c-2a1512145c96"
      },
      "source": [
        "print(list(df.columns))"
      ],
      "execution_count": 3,
      "outputs": [
        {
          "output_type": "stream",
          "text": [
            "['fixed acidity', 'volatile acidity', 'citric acid', 'residual sugar', 'chlorides', 'free sulfur dioxide', 'total sulfur dioxide', 'density', 'pH', 'sulphates', 'alcohol', 'quality']\n"
          ],
          "name": "stdout"
        }
      ]
    },
    {
      "cell_type": "code",
      "metadata": {
        "id": "bKF37jCWl5SG",
        "colab_type": "code",
        "colab": {
          "base_uri": "https://localhost:8080/",
          "height": 221
        },
        "outputId": "80183571-46df-4408-8b7d-a9a08ed6adb5"
      },
      "source": [
        "#apresentando as 5 primeiras linhas do dataset\n",
        "df.head()"
      ],
      "execution_count": 4,
      "outputs": [
        {
          "output_type": "execute_result",
          "data": {
            "text/html": [
              "<div>\n",
              "<style scoped>\n",
              "    .dataframe tbody tr th:only-of-type {\n",
              "        vertical-align: middle;\n",
              "    }\n",
              "\n",
              "    .dataframe tbody tr th {\n",
              "        vertical-align: top;\n",
              "    }\n",
              "\n",
              "    .dataframe thead th {\n",
              "        text-align: right;\n",
              "    }\n",
              "</style>\n",
              "<table border=\"1\" class=\"dataframe\">\n",
              "  <thead>\n",
              "    <tr style=\"text-align: right;\">\n",
              "      <th></th>\n",
              "      <th>fixed acidity</th>\n",
              "      <th>volatile acidity</th>\n",
              "      <th>citric acid</th>\n",
              "      <th>residual sugar</th>\n",
              "      <th>chlorides</th>\n",
              "      <th>free sulfur dioxide</th>\n",
              "      <th>total sulfur dioxide</th>\n",
              "      <th>density</th>\n",
              "      <th>pH</th>\n",
              "      <th>sulphates</th>\n",
              "      <th>alcohol</th>\n",
              "      <th>quality</th>\n",
              "    </tr>\n",
              "  </thead>\n",
              "  <tbody>\n",
              "    <tr>\n",
              "      <th>0</th>\n",
              "      <td>7.4</td>\n",
              "      <td>0.70</td>\n",
              "      <td>0.00</td>\n",
              "      <td>1.9</td>\n",
              "      <td>0.076</td>\n",
              "      <td>11.0</td>\n",
              "      <td>34.0</td>\n",
              "      <td>0.9978</td>\n",
              "      <td>3.51</td>\n",
              "      <td>0.56</td>\n",
              "      <td>9.4</td>\n",
              "      <td>5</td>\n",
              "    </tr>\n",
              "    <tr>\n",
              "      <th>1</th>\n",
              "      <td>7.8</td>\n",
              "      <td>0.88</td>\n",
              "      <td>0.00</td>\n",
              "      <td>2.6</td>\n",
              "      <td>0.098</td>\n",
              "      <td>25.0</td>\n",
              "      <td>67.0</td>\n",
              "      <td>0.9968</td>\n",
              "      <td>3.20</td>\n",
              "      <td>0.68</td>\n",
              "      <td>9.8</td>\n",
              "      <td>5</td>\n",
              "    </tr>\n",
              "    <tr>\n",
              "      <th>2</th>\n",
              "      <td>7.8</td>\n",
              "      <td>0.76</td>\n",
              "      <td>0.04</td>\n",
              "      <td>2.3</td>\n",
              "      <td>0.092</td>\n",
              "      <td>15.0</td>\n",
              "      <td>54.0</td>\n",
              "      <td>0.9970</td>\n",
              "      <td>3.26</td>\n",
              "      <td>0.65</td>\n",
              "      <td>9.8</td>\n",
              "      <td>5</td>\n",
              "    </tr>\n",
              "    <tr>\n",
              "      <th>3</th>\n",
              "      <td>11.2</td>\n",
              "      <td>0.28</td>\n",
              "      <td>0.56</td>\n",
              "      <td>1.9</td>\n",
              "      <td>0.075</td>\n",
              "      <td>17.0</td>\n",
              "      <td>60.0</td>\n",
              "      <td>0.9980</td>\n",
              "      <td>3.16</td>\n",
              "      <td>0.58</td>\n",
              "      <td>9.8</td>\n",
              "      <td>6</td>\n",
              "    </tr>\n",
              "    <tr>\n",
              "      <th>4</th>\n",
              "      <td>7.4</td>\n",
              "      <td>0.70</td>\n",
              "      <td>0.00</td>\n",
              "      <td>1.9</td>\n",
              "      <td>0.076</td>\n",
              "      <td>11.0</td>\n",
              "      <td>34.0</td>\n",
              "      <td>0.9978</td>\n",
              "      <td>3.51</td>\n",
              "      <td>0.56</td>\n",
              "      <td>9.4</td>\n",
              "      <td>5</td>\n",
              "    </tr>\n",
              "  </tbody>\n",
              "</table>\n",
              "</div>"
            ],
            "text/plain": [
              "   fixed acidity  volatile acidity  citric acid  ...  sulphates  alcohol  quality\n",
              "0            7.4              0.70         0.00  ...       0.56      9.4        5\n",
              "1            7.8              0.88         0.00  ...       0.68      9.8        5\n",
              "2            7.8              0.76         0.04  ...       0.65      9.8        5\n",
              "3           11.2              0.28         0.56  ...       0.58      9.8        6\n",
              "4            7.4              0.70         0.00  ...       0.56      9.4        5\n",
              "\n",
              "[5 rows x 12 columns]"
            ]
          },
          "metadata": {
            "tags": []
          },
          "execution_count": 4
        }
      ]
    },
    {
      "cell_type": "markdown",
      "metadata": {
        "id": "t0TZOhmxm9Sl",
        "colab_type": "text"
      },
      "source": [
        "#### Pergunta 1\n",
        "No dataset utilizado para o desafio, quantas instâncias e atributos existem, respectivamente?\n",
        "\n",
        "- (12,1599).\n",
        "\n",
        "- (1345,15).\n",
        "\n",
        "- ***(1599,12).***\n",
        "\n",
        "- (15,1345)."
      ]
    },
    {
      "cell_type": "code",
      "metadata": {
        "id": "6E-2Hd7tyBXA",
        "colab_type": "code",
        "colab": {
          "base_uri": "https://localhost:8080/",
          "height": 34
        },
        "outputId": "8dc4d8a9-8764-411f-955b-d3a94f5fe8b0"
      },
      "source": [
        "df.shape"
      ],
      "execution_count": 5,
      "outputs": [
        {
          "output_type": "execute_result",
          "data": {
            "text/plain": [
              "(1599, 12)"
            ]
          },
          "metadata": {
            "tags": []
          },
          "execution_count": 5
        }
      ]
    },
    {
      "cell_type": "markdown",
      "metadata": {
        "id": "8HpNTK2ISXIR",
        "colab_type": "text"
      },
      "source": [
        "#### Pergunta 2\n",
        "Quantos tipos diferentes de dados existem no dataset do desafio?\n",
        "\n",
        "- 17.\n",
        "\n",
        "- ***2.***\n",
        "\n",
        "- 12.\n",
        "\n",
        "- 3."
      ]
    },
    {
      "cell_type": "code",
      "metadata": {
        "id": "Ydb2nIAlGd2P",
        "colab_type": "code",
        "colab": {
          "base_uri": "https://localhost:8080/",
          "height": 238
        },
        "outputId": "5f38fff3-0086-4006-e6c2-35e9d14500df"
      },
      "source": [
        "df.dtypes"
      ],
      "execution_count": 7,
      "outputs": [
        {
          "output_type": "execute_result",
          "data": {
            "text/plain": [
              "fixed acidity           float64\n",
              "volatile acidity        float64\n",
              "citric acid             float64\n",
              "residual sugar          float64\n",
              "chlorides               float64\n",
              "free sulfur dioxide     float64\n",
              "total sulfur dioxide    float64\n",
              "density                 float64\n",
              "pH                      float64\n",
              "sulphates               float64\n",
              "alcohol                 float64\n",
              "quality                   int64\n",
              "dtype: object"
            ]
          },
          "metadata": {
            "tags": []
          },
          "execution_count": 7
        }
      ]
    },
    {
      "cell_type": "code",
      "metadata": {
        "id": "x56TKoqhHAp0",
        "colab_type": "code",
        "colab": {
          "base_uri": "https://localhost:8080/",
          "height": 340
        },
        "outputId": "0ab13cd1-8fa6-45e4-d0be-2a58d62a0f76"
      },
      "source": [
        "df.info()"
      ],
      "execution_count": 8,
      "outputs": [
        {
          "output_type": "stream",
          "text": [
            "<class 'pandas.core.frame.DataFrame'>\n",
            "RangeIndex: 1599 entries, 0 to 1598\n",
            "Data columns (total 12 columns):\n",
            " #   Column                Non-Null Count  Dtype  \n",
            "---  ------                --------------  -----  \n",
            " 0   fixed acidity         1599 non-null   float64\n",
            " 1   volatile acidity      1599 non-null   float64\n",
            " 2   citric acid           1599 non-null   float64\n",
            " 3   residual sugar        1599 non-null   float64\n",
            " 4   chlorides             1599 non-null   float64\n",
            " 5   free sulfur dioxide   1599 non-null   float64\n",
            " 6   total sulfur dioxide  1599 non-null   float64\n",
            " 7   density               1599 non-null   float64\n",
            " 8   pH                    1599 non-null   float64\n",
            " 9   sulphates             1599 non-null   float64\n",
            " 10  alcohol               1599 non-null   float64\n",
            " 11  quality               1599 non-null   int64  \n",
            "dtypes: float64(11), int64(1)\n",
            "memory usage: 150.0 KB\n"
          ],
          "name": "stdout"
        }
      ]
    },
    {
      "cell_type": "markdown",
      "metadata": {
        "colab_type": "text",
        "id": "hlOM_OKDScl2"
      },
      "source": [
        "#### Pergunta 3\n",
        "Qual é a proporção (em %) de valores nulos existente na coluna \"residual sugar\" (resíduo de açucar)?\n",
        "\n",
        "- 5%.\n",
        "\n",
        "- 15%.\n",
        "\n",
        "- 0%.\n",
        "\n",
        "- 12%."
      ]
    },
    {
      "cell_type": "markdown",
      "metadata": {
        "colab_type": "text",
        "id": "OHA2b1gKScyl"
      },
      "source": [
        "#### Pergunta 4\n",
        "Qual é o desvio padrão para a variável \"fixed acidity\" ?\n",
        "\n",
        "- 8.3\n",
        "\n",
        "- 2.3\n",
        "\n",
        "- 1.7\n",
        "\n",
        "- 1.4"
      ]
    },
    {
      "cell_type": "markdown",
      "metadata": {
        "colab_type": "text",
        "id": "-kyHrb1ASc6d"
      },
      "source": [
        "#### Pergunta 5\n",
        "Qual é a mediana para a variável \"residual sugar\"?\n",
        "\n",
        "- 1.9\n",
        "\n",
        "- 8.1\n",
        "\n",
        "- 2.5\n",
        "\n",
        "- 2.2"
      ]
    },
    {
      "cell_type": "markdown",
      "metadata": {
        "colab_type": "text",
        "id": "w1LGxDmxSdBR"
      },
      "source": [
        "#### Pergunta 6\n",
        "Sobre o coeficiente de correlação de Pearson entre as variáveis \"fixed acidity\" e \"pH\" é CORRETO afirmar:\n",
        "\n",
        "- Existe uma correlação negativa. Quanto maior o \"fixed acidity, menor é o \"pH\".\n",
        "\n",
        "- Existe uma correlação positiva. Quanto maior o \"fixed acidity, menor é o \"pH\".\n",
        "\n",
        "- Existe uma correlação negativa. Quanto maior o \"fixed acidity, maior é o \"pH\".\n",
        "\n",
        "- Existe uma correlação negativa. Quanto menor o \"fixed acidity, menor é o \"pH\".\n",
        " "
      ]
    },
    {
      "cell_type": "markdown",
      "metadata": {
        "colab_type": "text",
        "id": "n19tKa9jSdH8"
      },
      "source": [
        "#### Pergunta 7\n",
        "Mesmo sendo reduzido, é CORRETO dizer sobre o coeficiente de correlação de Pearson entre as variáveis \"quality\" e \"alcohol\":\n",
        "\n",
        "- Para analisar correlação é necessário que o coeficiente seja superior a 1.\n",
        "\n",
        "- Quanto maior o teor alcoolico (alcohol), maior é a qualidade do vinho (quality).\n",
        "\n",
        "- Não é possível dizer nada sobre a correlação entre as vairáveis.\n",
        "\n",
        "- Quanto maior o teor alcoolico (alcohol), menor é a qualidade do vinho (quality)."
      ]
    },
    {
      "cell_type": "markdown",
      "metadata": {
        "colab_type": "text",
        "id": "Nldm8uiNSdOD"
      },
      "source": [
        "#### Pergunta 8\n",
        "Quantas instâncias existem para a qualidade do vinho igual a 5?\n",
        "\n",
        "- 345\n",
        "\n",
        "- 681\n",
        "\n",
        "- 53\n",
        "\n",
        "- 638"
      ]
    },
    {
      "cell_type": "markdown",
      "metadata": {
        "colab_type": "text",
        "id": "9ZS9b4Z9SdU1"
      },
      "source": [
        "#### Pergunta 9\n",
        "Aplique o modelo de normalização MinMaxScaler com os valores \"default\" para os dados de entrada. Qual é o menor valor para a variável \"fixed acidity\"?\n",
        "\n",
        "- 1\n",
        "\n",
        "- 0\n",
        "\n",
        "- 15.2\n",
        "\n",
        "- 4,6"
      ]
    },
    {
      "cell_type": "markdown",
      "metadata": {
        "colab_type": "text",
        "id": "C_UToRkESdbh"
      },
      "source": [
        "#### Pergunta 10\n",
        "Após dividir o dataset utilizando o método train_test_split(entradas_normalizadas, saida, test_size=0.30, random_state=1). Qual foi a acurária para o KNN?\n",
        "\n",
        "- 0,56\n",
        "\n",
        "- 1,2\n",
        "\n",
        "- 0,15\n",
        "\n",
        "- 0,89"
      ]
    },
    {
      "cell_type": "markdown",
      "metadata": {
        "colab_type": "text",
        "id": "gpXFKddgSdhn"
      },
      "source": [
        "#### Pergunta 11\n",
        "Aplicando o algoritmo de árvore de decisão com os parâmetros definidos no enunciado do desafio e a divisão de treinamento e teste como mostrado, anteriormente. Qual é o valor da acurácia?\n",
        "\n",
        "- 0.80\n",
        "\n",
        "- -0.58\n",
        "\n",
        "- 0.58\n",
        "\n",
        "- -0.80"
      ]
    },
    {
      "cell_type": "markdown",
      "metadata": {
        "colab_type": "text",
        "id": "Pl6CJlGJSdoQ"
      },
      "source": [
        "#### Pergunta 12\n",
        "Aplicando o algoritmo de floresta randomica com os mesmos parâmetros apresentados no enunciado e mesmos valores treinamento e teste, qual é o valor da acurácia?\n",
        "\n",
        "- 0,40\n",
        "\n",
        "- 0,30\n",
        "\n",
        "- 0,68\n",
        "\n",
        "- 1,00"
      ]
    },
    {
      "cell_type": "markdown",
      "metadata": {
        "colab_type": "text",
        "id": "h0UOdPvLSdu8"
      },
      "source": [
        "#### Pergunta 13\n",
        "Aplicando o algoritmo SVM para a classificação da qualidade dos vinhos com os mesmos valores anteriores para treinamento e teste, qual é o valor de acurácia obtido?\n",
        "\n",
        "- 0,72\n",
        "\n",
        "- 0,36\n",
        "\n",
        "- 0,15\n",
        "\n",
        "- 0,59"
      ]
    },
    {
      "cell_type": "markdown",
      "metadata": {
        "colab_type": "text",
        "id": "fir_Fr1zSd2O"
      },
      "source": [
        "#### Pergunta 14\n",
        "Apicando a rede MLP como mostrado no enunciado e com os mesmos dados de treinamento e teste utilizados, qual é a acurácia do modelo?\n",
        "\n",
        "- 0,60\n",
        "\n",
        "- 0,90\n",
        "\n",
        "- 0,25\n",
        "\n",
        "- 0,30"
      ]
    },
    {
      "cell_type": "markdown",
      "metadata": {
        "colab_type": "text",
        "id": "3PCq5ppBSd9f"
      },
      "source": [
        "#### Pergunta 15\n",
        "Modifique o dataset para um sistema binário que considere vinhos com nota maior do que 5 (6, 7, 8) sejam bons e menores ou igual a 5 ruins (5, 4, 3). Aplique o modelo da floresta randômica. Qual a acurácia do modelo para esse novo dataset?\n",
        "\n",
        "- 0,80\n",
        "\n",
        "- 0,50\n",
        "\n",
        "- 0,68\n",
        "\n",
        "- 0,60"
      ]
    }
  ]
}